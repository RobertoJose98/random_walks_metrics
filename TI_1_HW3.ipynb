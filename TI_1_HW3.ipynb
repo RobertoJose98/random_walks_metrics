{
 "cells": [
  {
   "cell_type": "markdown",
   "metadata": {},
   "source": [
    "# Homework 3\n",
    "\n",
    "**Name:** -- Roberto José González --\n",
    "\n",
    "**e-mail:** -- roberto.jose0745@alumnos.udg.mx --"
   ]
  },
  {
   "cell_type": "markdown",
   "metadata": {},
   "source": [
    "# MODULES"
   ]
  },
  {
   "cell_type": "code",
   "execution_count": 1,
   "metadata": {},
   "outputs": [
    {
     "name": "stdout",
     "output_type": "stream",
     "text": [
      "Enviroment configurated and modules loaded\n"
     ]
    }
   ],
   "source": [
    "# Load modules\n",
    "import numpy as np\n",
    "import pandas as pd\n",
    "import plotly.graph_objs as go\n",
    "import plotly.express as px\n",
    "from scipy.stats import cauchy, pareto\n",
    "\n",
    "# Productivity seed configuration\n",
    "np.random.seed(42)\n",
    "\n",
    "print(\"Enviroment configurated and modules loaded\")\n"
   ]
  },
  {
   "cell_type": "markdown",
   "metadata": {},
   "source": [
    "# **Activity 1:** Path length - (BM1 vs BM2 vs CRW)\n",
    "This activity generates two types of trajectories: Brownian Motion (BM), created by summing normal random steps, and Correlated Random Walk (CRW), where each step depends on the previous angle plus a random variation. The total length of each trajectory is calculated by summing the distances between consecutive points. The code implements functions to generate these trajectories and calculate their length, visualizing them in an interactive graph."
   ]
  },
  {
   "cell_type": "code",
   "execution_count": 2,
   "metadata": {},
   "outputs": [
    {
     "name": "stdout",
     "output_type": "stream",
     "text": [
      "BM1 length: 22.446900109144245\n",
      "BM2 length: 22.43894568652474\n",
      "CRW length: 19.0\n"
     ]
    },
    {
     "data": {
      "application/vnd.plotly.v1+json": {
       "config": {
        "plotlyServerURL": "https://plot.ly"
       },
       "data": [
        {
         "mode": "lines",
         "name": "BM1 (Long: 22.45)",
         "type": "scatter",
         "x": {
          "bdata": "fDCpKCrK3z/nLbql1/DWP666gJEkGfA/bDLBj7w7BEAIuMvBMFwCQFSqZI+tfABAWOSE4+ceDUAqjaBaTqERQIPm0esggQ9A8TgWUiXsEUA6JyonmxEQQHdw8chlaQxADmBLs+9YDkBeiqinExX+P2AyzbWB3sM/lt9b+kMN2r9eSTpm37f2v9anNDC3sPG/6RR9uP0bAMDMHoeaY2gLwA==",
          "dtype": "f8"
         },
         "y": {
          "bdata": "QQ2fH0xz9z8mOnKDhNbzP4JN3fcc6/Q/AJ79knwKvr/orSrk5CzlvyGNRFw3oOG/pjvx65M6+78sxBH/tzf1vxVisE/v0/6/Xqs2MFu/AcDIKqG+po8GwHK+UhS++O6/gICtz09n779DRq8ZBVAAwGr1zljldvO/w7dYWbx/A8AowSms+9MBwMXs6JmxwBDAhQPVmsEQFsCzYe2cK0cVwA==",
          "dtype": "f8"
         }
        },
        {
         "mode": "lines",
         "name": "BM2 (Long: 22.44)",
         "type": "scatter",
         "x": {
          "bdata": "vp1IqoSh5z9BqbH/XR3tPxVj2/j5aek/SRZmgquO3z/oZC6Yt4jvv4iFayjXSPu/nxh69c5TAcDcbhzspL3xv/S8uA9efOi/5Ln0T8w5BMDdDuf5EqIBwMVQrP64tgTAGF+WEw8hCsDa49OJWDwFwODKsri3+fm/ovmEemMm5r96B8oXoYD4v+7R5sQpc/2/zP6i4k4m+L+YlS1b8xThvw==",
          "dtype": "f8"
         },
         "y": {
          "bdata": "VWYobMqq3r+vjjNOUEblv4g1VnS0Vvy/vpV4AS+9B8BS4KV3IT0BwE7lj2E0jum/zUk1jRzc678c3J7jUQPBP1AS+F60pt8/HAYU/t9Fw78CzTUTVvzKP8AZd/1W+/s/9fBRqpho+z8T5MU5sDgKQNAS2jfNDeU/yLV52Wmt9z+qcO5Q9RH5Pzo1dmI5SfQ/3p1aiBPB9T8I/iIPAxjkvw==",
          "dtype": "f8"
         }
        },
        {
         "mode": "lines",
         "name": "CRW (Long: 19.00)",
         "type": "scatter",
         "x": {
          "bdata": "jNe/KyqC5j8cI42sz6XsP24MQ5dn6ug/sgzLPAF+7j/CDFAkrbbwP306UnYeAe8/uK0urYJv8T9FlEKuVCb6P7HK5Z8GFgJAySmQNMnTB0C3VviKFp0PQGiAkWkFwRNAgqgxN/WXF0B1waC8wZcbQAJCgspRkB9AKmS8Eki2IUAW73bRMKgjQLG17lJ6pCVAw/33n8TZJkCQUfmPaEMoQA==",
          "dtype": "f8"
         },
         "y": {
          "bdata": "p9Ab2+m+5r8JHd+RXhP7v8jc+3G1ewXA1k/D9l5cDcAwL3yR3qkSwFqKIyTuphbA0WaEOW2fGsBnhLmPOvodwOB7D3w4jCDA/mbyscbwIcBhLNr0UGYiwL0Pwvw/uSLAWBnsb8lII8CkEfPj7lIjwGKRSnWHkCPAwKmor6UWJMALQTsOW58jwCIwrLHOYSPACJin09T5JMDt6caTRGQmwA==",
          "dtype": "f8"
         }
        }
       ],
       "layout": {
        "template": {
         "data": {
          "bar": [
           {
            "error_x": {
             "color": "#2a3f5f"
            },
            "error_y": {
             "color": "#2a3f5f"
            },
            "marker": {
             "line": {
              "color": "#E5ECF6",
              "width": 0.5
             },
             "pattern": {
              "fillmode": "overlay",
              "size": 10,
              "solidity": 0.2
             }
            },
            "type": "bar"
           }
          ],
          "barpolar": [
           {
            "marker": {
             "line": {
              "color": "#E5ECF6",
              "width": 0.5
             },
             "pattern": {
              "fillmode": "overlay",
              "size": 10,
              "solidity": 0.2
             }
            },
            "type": "barpolar"
           }
          ],
          "carpet": [
           {
            "aaxis": {
             "endlinecolor": "#2a3f5f",
             "gridcolor": "white",
             "linecolor": "white",
             "minorgridcolor": "white",
             "startlinecolor": "#2a3f5f"
            },
            "baxis": {
             "endlinecolor": "#2a3f5f",
             "gridcolor": "white",
             "linecolor": "white",
             "minorgridcolor": "white",
             "startlinecolor": "#2a3f5f"
            },
            "type": "carpet"
           }
          ],
          "choropleth": [
           {
            "colorbar": {
             "outlinewidth": 0,
             "ticks": ""
            },
            "type": "choropleth"
           }
          ],
          "contour": [
           {
            "colorbar": {
             "outlinewidth": 0,
             "ticks": ""
            },
            "colorscale": [
             [
              0,
              "#0d0887"
             ],
             [
              0.1111111111111111,
              "#46039f"
             ],
             [
              0.2222222222222222,
              "#7201a8"
             ],
             [
              0.3333333333333333,
              "#9c179e"
             ],
             [
              0.4444444444444444,
              "#bd3786"
             ],
             [
              0.5555555555555556,
              "#d8576b"
             ],
             [
              0.6666666666666666,
              "#ed7953"
             ],
             [
              0.7777777777777778,
              "#fb9f3a"
             ],
             [
              0.8888888888888888,
              "#fdca26"
             ],
             [
              1,
              "#f0f921"
             ]
            ],
            "type": "contour"
           }
          ],
          "contourcarpet": [
           {
            "colorbar": {
             "outlinewidth": 0,
             "ticks": ""
            },
            "type": "contourcarpet"
           }
          ],
          "heatmap": [
           {
            "colorbar": {
             "outlinewidth": 0,
             "ticks": ""
            },
            "colorscale": [
             [
              0,
              "#0d0887"
             ],
             [
              0.1111111111111111,
              "#46039f"
             ],
             [
              0.2222222222222222,
              "#7201a8"
             ],
             [
              0.3333333333333333,
              "#9c179e"
             ],
             [
              0.4444444444444444,
              "#bd3786"
             ],
             [
              0.5555555555555556,
              "#d8576b"
             ],
             [
              0.6666666666666666,
              "#ed7953"
             ],
             [
              0.7777777777777778,
              "#fb9f3a"
             ],
             [
              0.8888888888888888,
              "#fdca26"
             ],
             [
              1,
              "#f0f921"
             ]
            ],
            "type": "heatmap"
           }
          ],
          "histogram": [
           {
            "marker": {
             "pattern": {
              "fillmode": "overlay",
              "size": 10,
              "solidity": 0.2
             }
            },
            "type": "histogram"
           }
          ],
          "histogram2d": [
           {
            "colorbar": {
             "outlinewidth": 0,
             "ticks": ""
            },
            "colorscale": [
             [
              0,
              "#0d0887"
             ],
             [
              0.1111111111111111,
              "#46039f"
             ],
             [
              0.2222222222222222,
              "#7201a8"
             ],
             [
              0.3333333333333333,
              "#9c179e"
             ],
             [
              0.4444444444444444,
              "#bd3786"
             ],
             [
              0.5555555555555556,
              "#d8576b"
             ],
             [
              0.6666666666666666,
              "#ed7953"
             ],
             [
              0.7777777777777778,
              "#fb9f3a"
             ],
             [
              0.8888888888888888,
              "#fdca26"
             ],
             [
              1,
              "#f0f921"
             ]
            ],
            "type": "histogram2d"
           }
          ],
          "histogram2dcontour": [
           {
            "colorbar": {
             "outlinewidth": 0,
             "ticks": ""
            },
            "colorscale": [
             [
              0,
              "#0d0887"
             ],
             [
              0.1111111111111111,
              "#46039f"
             ],
             [
              0.2222222222222222,
              "#7201a8"
             ],
             [
              0.3333333333333333,
              "#9c179e"
             ],
             [
              0.4444444444444444,
              "#bd3786"
             ],
             [
              0.5555555555555556,
              "#d8576b"
             ],
             [
              0.6666666666666666,
              "#ed7953"
             ],
             [
              0.7777777777777778,
              "#fb9f3a"
             ],
             [
              0.8888888888888888,
              "#fdca26"
             ],
             [
              1,
              "#f0f921"
             ]
            ],
            "type": "histogram2dcontour"
           }
          ],
          "mesh3d": [
           {
            "colorbar": {
             "outlinewidth": 0,
             "ticks": ""
            },
            "type": "mesh3d"
           }
          ],
          "parcoords": [
           {
            "line": {
             "colorbar": {
              "outlinewidth": 0,
              "ticks": ""
             }
            },
            "type": "parcoords"
           }
          ],
          "pie": [
           {
            "automargin": true,
            "type": "pie"
           }
          ],
          "scatter": [
           {
            "fillpattern": {
             "fillmode": "overlay",
             "size": 10,
             "solidity": 0.2
            },
            "type": "scatter"
           }
          ],
          "scatter3d": [
           {
            "line": {
             "colorbar": {
              "outlinewidth": 0,
              "ticks": ""
             }
            },
            "marker": {
             "colorbar": {
              "outlinewidth": 0,
              "ticks": ""
             }
            },
            "type": "scatter3d"
           }
          ],
          "scattercarpet": [
           {
            "marker": {
             "colorbar": {
              "outlinewidth": 0,
              "ticks": ""
             }
            },
            "type": "scattercarpet"
           }
          ],
          "scattergeo": [
           {
            "marker": {
             "colorbar": {
              "outlinewidth": 0,
              "ticks": ""
             }
            },
            "type": "scattergeo"
           }
          ],
          "scattergl": [
           {
            "marker": {
             "colorbar": {
              "outlinewidth": 0,
              "ticks": ""
             }
            },
            "type": "scattergl"
           }
          ],
          "scattermap": [
           {
            "marker": {
             "colorbar": {
              "outlinewidth": 0,
              "ticks": ""
             }
            },
            "type": "scattermap"
           }
          ],
          "scattermapbox": [
           {
            "marker": {
             "colorbar": {
              "outlinewidth": 0,
              "ticks": ""
             }
            },
            "type": "scattermapbox"
           }
          ],
          "scatterpolar": [
           {
            "marker": {
             "colorbar": {
              "outlinewidth": 0,
              "ticks": ""
             }
            },
            "type": "scatterpolar"
           }
          ],
          "scatterpolargl": [
           {
            "marker": {
             "colorbar": {
              "outlinewidth": 0,
              "ticks": ""
             }
            },
            "type": "scatterpolargl"
           }
          ],
          "scatterternary": [
           {
            "marker": {
             "colorbar": {
              "outlinewidth": 0,
              "ticks": ""
             }
            },
            "type": "scatterternary"
           }
          ],
          "surface": [
           {
            "colorbar": {
             "outlinewidth": 0,
             "ticks": ""
            },
            "colorscale": [
             [
              0,
              "#0d0887"
             ],
             [
              0.1111111111111111,
              "#46039f"
             ],
             [
              0.2222222222222222,
              "#7201a8"
             ],
             [
              0.3333333333333333,
              "#9c179e"
             ],
             [
              0.4444444444444444,
              "#bd3786"
             ],
             [
              0.5555555555555556,
              "#d8576b"
             ],
             [
              0.6666666666666666,
              "#ed7953"
             ],
             [
              0.7777777777777778,
              "#fb9f3a"
             ],
             [
              0.8888888888888888,
              "#fdca26"
             ],
             [
              1,
              "#f0f921"
             ]
            ],
            "type": "surface"
           }
          ],
          "table": [
           {
            "cells": {
             "fill": {
              "color": "#EBF0F8"
             },
             "line": {
              "color": "white"
             }
            },
            "header": {
             "fill": {
              "color": "#C8D4E3"
             },
             "line": {
              "color": "white"
             }
            },
            "type": "table"
           }
          ]
         },
         "layout": {
          "annotationdefaults": {
           "arrowcolor": "#2a3f5f",
           "arrowhead": 0,
           "arrowwidth": 1
          },
          "autotypenumbers": "strict",
          "coloraxis": {
           "colorbar": {
            "outlinewidth": 0,
            "ticks": ""
           }
          },
          "colorscale": {
           "diverging": [
            [
             0,
             "#8e0152"
            ],
            [
             0.1,
             "#c51b7d"
            ],
            [
             0.2,
             "#de77ae"
            ],
            [
             0.3,
             "#f1b6da"
            ],
            [
             0.4,
             "#fde0ef"
            ],
            [
             0.5,
             "#f7f7f7"
            ],
            [
             0.6,
             "#e6f5d0"
            ],
            [
             0.7,
             "#b8e186"
            ],
            [
             0.8,
             "#7fbc41"
            ],
            [
             0.9,
             "#4d9221"
            ],
            [
             1,
             "#276419"
            ]
           ],
           "sequential": [
            [
             0,
             "#0d0887"
            ],
            [
             0.1111111111111111,
             "#46039f"
            ],
            [
             0.2222222222222222,
             "#7201a8"
            ],
            [
             0.3333333333333333,
             "#9c179e"
            ],
            [
             0.4444444444444444,
             "#bd3786"
            ],
            [
             0.5555555555555556,
             "#d8576b"
            ],
            [
             0.6666666666666666,
             "#ed7953"
            ],
            [
             0.7777777777777778,
             "#fb9f3a"
            ],
            [
             0.8888888888888888,
             "#fdca26"
            ],
            [
             1,
             "#f0f921"
            ]
           ],
           "sequentialminus": [
            [
             0,
             "#0d0887"
            ],
            [
             0.1111111111111111,
             "#46039f"
            ],
            [
             0.2222222222222222,
             "#7201a8"
            ],
            [
             0.3333333333333333,
             "#9c179e"
            ],
            [
             0.4444444444444444,
             "#bd3786"
            ],
            [
             0.5555555555555556,
             "#d8576b"
            ],
            [
             0.6666666666666666,
             "#ed7953"
            ],
            [
             0.7777777777777778,
             "#fb9f3a"
            ],
            [
             0.8888888888888888,
             "#fdca26"
            ],
            [
             1,
             "#f0f921"
            ]
           ]
          },
          "colorway": [
           "#636efa",
           "#EF553B",
           "#00cc96",
           "#ab63fa",
           "#FFA15A",
           "#19d3f3",
           "#FF6692",
           "#B6E880",
           "#FF97FF",
           "#FECB52"
          ],
          "font": {
           "color": "#2a3f5f"
          },
          "geo": {
           "bgcolor": "white",
           "lakecolor": "white",
           "landcolor": "#E5ECF6",
           "showlakes": true,
           "showland": true,
           "subunitcolor": "white"
          },
          "hoverlabel": {
           "align": "left"
          },
          "hovermode": "closest",
          "mapbox": {
           "style": "light"
          },
          "paper_bgcolor": "white",
          "plot_bgcolor": "#E5ECF6",
          "polar": {
           "angularaxis": {
            "gridcolor": "white",
            "linecolor": "white",
            "ticks": ""
           },
           "bgcolor": "#E5ECF6",
           "radialaxis": {
            "gridcolor": "white",
            "linecolor": "white",
            "ticks": ""
           }
          },
          "scene": {
           "xaxis": {
            "backgroundcolor": "#E5ECF6",
            "gridcolor": "white",
            "gridwidth": 2,
            "linecolor": "white",
            "showbackground": true,
            "ticks": "",
            "zerolinecolor": "white"
           },
           "yaxis": {
            "backgroundcolor": "#E5ECF6",
            "gridcolor": "white",
            "gridwidth": 2,
            "linecolor": "white",
            "showbackground": true,
            "ticks": "",
            "zerolinecolor": "white"
           },
           "zaxis": {
            "backgroundcolor": "#E5ECF6",
            "gridcolor": "white",
            "gridwidth": 2,
            "linecolor": "white",
            "showbackground": true,
            "ticks": "",
            "zerolinecolor": "white"
           }
          },
          "shapedefaults": {
           "line": {
            "color": "#2a3f5f"
           }
          },
          "ternary": {
           "aaxis": {
            "gridcolor": "white",
            "linecolor": "white",
            "ticks": ""
           },
           "baxis": {
            "gridcolor": "white",
            "linecolor": "white",
            "ticks": ""
           },
           "bgcolor": "#E5ECF6",
           "caxis": {
            "gridcolor": "white",
            "linecolor": "white",
            "ticks": ""
           }
          },
          "title": {
           "x": 0.05
          },
          "xaxis": {
           "automargin": true,
           "gridcolor": "white",
           "linecolor": "white",
           "ticks": "",
           "title": {
            "standoff": 15
           },
           "zerolinecolor": "white",
           "zerolinewidth": 2
          },
          "yaxis": {
           "automargin": true,
           "gridcolor": "white",
           "linecolor": "white",
           "ticks": "",
           "title": {
            "standoff": 15
           },
           "zerolinecolor": "white",
           "zerolinewidth": 2
          }
         }
        },
        "title": {
         "text": "Trajectories: BM1 vs BM2 vs CRW"
        },
        "xaxis": {
         "title": {
          "text": "X"
         }
        },
        "yaxis": {
         "title": {
          "text": "Y"
         }
        }
       }
      }
     },
     "metadata": {},
     "output_type": "display_data"
    }
   ],
   "source": [
    "# Brownian Motion trejectory\n",
    "def generate_bm_trajectory(n_steps=100, step_std=1.0):\n",
    "    # (x,y) randon walk generation\n",
    "    steps_x = np.random.normal(loc=0, scale=step_std, size=n_steps)\n",
    "    steps_y = np.random.normal(loc=0, scale=step_std, size=n_steps)\n",
    "    # Acumulated random walk \n",
    "    x = np.cumsum(steps_x)\n",
    "    y = np.cumsum(steps_y)\n",
    "    return pd.DataFrame({'x': x, 'y': y})\n",
    "\n",
    "# Correlated Random Walk trajectory \n",
    "def generate_crw_trajectory(n_steps=100, step_length=1.0, turning_angle_std=np.pi/8):\n",
    "    # Initial random angule\n",
    "    angle = np.random.uniform(0, 2*np.pi)\n",
    "    x, y = [0], [0]\n",
    "    for _ in range(n_steps):\n",
    "        # Normal distribution added\n",
    "        delta_angle = np.random.normal(loc=0, scale=turning_angle_std)\n",
    "        angle += delta_angle\n",
    "        # Position updated\n",
    "        x.append(x[-1] + step_length * np.cos(angle))\n",
    "        y.append(y[-1] + step_length * np.sin(angle))\n",
    "    # It¿nitial point skipped \n",
    "    return pd.DataFrame({'x': x[1:], 'y': y[1:]})\n",
    "\n",
    "# Trajectory length calculation\n",
    "def compute_path_length(traj_df):\n",
    "    # Euclidian distance calculation\n",
    "    dx = np.diff(traj_df['x'])\n",
    "    dy = np.diff(traj_df['y'])\n",
    "    distances = np.sqrt(dx**2 + dy**2)\n",
    "    return np.sum(distances)\n",
    "\n",
    "# Trajectories generated\n",
    "bm1 = generate_bm_trajectory(n_steps=20, step_std=1.0)\n",
    "bm2 = generate_bm_trajectory(n_steps=20, step_std=1.0)\n",
    "crw = generate_crw_trajectory(n_steps=20, step_length=1.0, turning_angle_std=np.pi/8)\n",
    "\n",
    "# Length calculation of each trajectory\n",
    "length_bm1 = compute_path_length(bm1)\n",
    "length_bm2 = compute_path_length(bm2)\n",
    "length_crw = compute_path_length(crw)\n",
    "\n",
    "print(\"BM1 length:\", length_bm1)\n",
    "print(\"BM2 length:\", length_bm2)\n",
    "print(\"CRW length:\", length_crw)\n",
    "\n",
    "# Trajectory graph\n",
    "fig = go.Figure()\n",
    "fig.add_trace(go.Scatter(x=bm1['x'], y=bm1['y'], mode='lines', name=f'BM1 (Long: {length_bm1:.2f})'))\n",
    "fig.add_trace(go.Scatter(x=bm2['x'], y=bm2['y'], mode='lines', name=f'BM2 (Long: {length_bm2:.2f})'))\n",
    "fig.add_trace(go.Scatter(x=crw['x'], y=crw['y'], mode='lines', name=f'CRW (Long: {length_crw:.2f})'))\n",
    "fig.update_layout(title=\"Trajectories: BM1 vs BM2 vs CRW\",\n",
    "                  xaxis_title=\"X\", yaxis_title=\"Y\")\n",
    "fig.show()\n"
   ]
  },
  {
   "cell_type": "markdown",
   "metadata": {},
   "source": [
    "# **Activity 2:** Mean Squared Displacement - (BM vs CRW)\n",
    "This fragment describes the calculation and comparison of the Mean Squared Displacement (MSD) for Brownian Motion (BM) and Correlated Random Walk (CRW) trajectories. The MSD measures the dispersion of a particle over time, calculating the average of the squared distance traveled for different lag times. In BM trajectories, the MSD increases linearly with time, while in CRW it shows a different behavior due to the correlation in steps. The code calculates the MSD for both trajectories and visualizes them in an interactive graph for comparison."
   ]
  },
  {
   "cell_type": "code",
   "execution_count": 5,
   "metadata": {},
   "outputs": [
    {
     "data": {
      "application/vnd.plotly.v1+json": {
       "config": {
        "plotlyServerURL": "https://plot.ly"
       },
       "data": [
        {
         "mode": "lines",
         "name": "MSD BM",
         "type": "scatter",
         "x": {
          "bdata": "AQACAAMABAAFAAYABwAIAAkACgALAAwADQAOAA8AEAARABIAEwAUABUAFgAXABgAGQAaABsAHAAdAB4AHwAgACEAIgAjACQAJQAmACcAKAApACoAKwAsAC0ALgAvADAAMQAyADMANAA1ADYANwA4ADkAOgA7ADwAPQA+AD8AQABBAEIAQwBEAEUARgBHAEgASQBKAEsATABNAE4ATwBQAFEAUgBTAFQAVQBWAFcAWABZAFoAWwBcAF0AXgBfAGAAYQBiAGMAZABlAGYAZwBoAGkAagBrAGwAbQBuAG8AcABxAHIAcwB0AHUAdgB3AHgAeQB6AHsAfAB9AH4AfwCAAIEAggCDAIQAhQCGAIcAiACJAIoAiwCMAI0AjgCPAJAAkQCSAJMAlACVAJYAlwCYAJkAmgCbAJwAnQCeAJ8AoAChAKIAowCkAKUApgCnAKgAqQCqAKsArACtAK4ArwCwALEAsgCzALQAtQC2ALcAuAC5ALoAuwC8AL0AvgC/AMAAwQDCAMMAxADFAMYAxwDIAMkAygDLAMwAzQDOAM8A0ADRANIA0wDUANUA1gDXANgA2QDaANsA3ADdAN4A3wDgAOEA4gDjAOQA5QDmAOcA6ADpAOoA6wDsAO0A7gDvAPAA8QDyAPMA9AD1APYA9wD4APkA+gD7APwA/QD+AP8AAAEBAQIBAwEEAQUBBgEHAQgBCQEKAQsBDAENAQ4BDwEQAREBEgETARQBFQEWARcBGAEZARoBGwEcAR0BHgEfASABIQEiASMBJAElASYBJwEoASkBKgErAQ==",
          "dtype": "i2"
         },
         "y": {
          "bdata": "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",
          "dtype": "f8"
         }
        },
        {
         "mode": "lines",
         "name": "MSD CRW",
         "type": "scatter",
         "x": {
          "bdata": "AQACAAMABAAFAAYABwAIAAkACgALAAwADQAOAA8AEAARABIAEwAUABUAFgAXABgAGQAaABsAHAAdAB4AHwAgACEAIgAjACQAJQAmACcAKAApACoAKwAsAC0ALgAvADAAMQAyADMANAA1ADYANwA4ADkAOgA7ADwAPQA+AD8AQABBAEIAQwBEAEUARgBHAEgASQBKAEsATABNAE4ATwBQAFEAUgBTAFQAVQBWAFcAWABZAFoAWwBcAF0AXgBfAGAAYQBiAGMAZABlAGYAZwBoAGkAagBrAGwAbQBuAG8AcABxAHIAcwB0AHUAdgB3AHgAeQB6AHsAfAB9AH4AfwCAAIEAggCDAIQAhQCGAIcAiACJAIoAiwCMAI0AjgCPAJAAkQCSAJMAlACVAJYAlwCYAJkAmgCbAJwAnQCeAJ8AoAChAKIAowCkAKUApgCnAKgAqQCqAKsArACtAK4ArwCwALEAsgCzALQAtQC2ALcAuAC5ALoAuwC8AL0AvgC/AMAAwQDCAMMAxADFAMYAxwDIAMkAygDLAMwAzQDOAM8A0ADRANIA0wDUANUA1gDXANgA2QDaANsA3ADdAN4A3wDgAOEA4gDjAOQA5QDmAOcA6ADpAOoA6wDsAO0A7gDvAPAA8QDyAPMA9AD1APYA9wD4APkA+gD7APwA/QD+AP8AAAEBAQIBAwEEAQUBBgEHAQgBCQEKAQsBDAENAQ4BDwEQAREBEgETARQBFQEWARcBGAEZARoBGwEcAR0BHgEfASABIQEiASMBJAElASYBJwEoASkBKgErAQ==",
          "dtype": "i2"
         },
         "y": {
          "bdata": "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",
          "dtype": "f8"
         }
        }
       ],
       "layout": {
        "template": {
         "data": {
          "bar": [
           {
            "error_x": {
             "color": "#2a3f5f"
            },
            "error_y": {
             "color": "#2a3f5f"
            },
            "marker": {
             "line": {
              "color": "#E5ECF6",
              "width": 0.5
             },
             "pattern": {
              "fillmode": "overlay",
              "size": 10,
              "solidity": 0.2
             }
            },
            "type": "bar"
           }
          ],
          "barpolar": [
           {
            "marker": {
             "line": {
              "color": "#E5ECF6",
              "width": 0.5
             },
             "pattern": {
              "fillmode": "overlay",
              "size": 10,
              "solidity": 0.2
             }
            },
            "type": "barpolar"
           }
          ],
          "carpet": [
           {
            "aaxis": {
             "endlinecolor": "#2a3f5f",
             "gridcolor": "white",
             "linecolor": "white",
             "minorgridcolor": "white",
             "startlinecolor": "#2a3f5f"
            },
            "baxis": {
             "endlinecolor": "#2a3f5f",
             "gridcolor": "white",
             "linecolor": "white",
             "minorgridcolor": "white",
             "startlinecolor": "#2a3f5f"
            },
            "type": "carpet"
           }
          ],
          "choropleth": [
           {
            "colorbar": {
             "outlinewidth": 0,
             "ticks": ""
            },
            "type": "choropleth"
           }
          ],
          "contour": [
           {
            "colorbar": {
             "outlinewidth": 0,
             "ticks": ""
            },
            "colorscale": [
             [
              0,
              "#0d0887"
             ],
             [
              0.1111111111111111,
              "#46039f"
             ],
             [
              0.2222222222222222,
              "#7201a8"
             ],
             [
              0.3333333333333333,
              "#9c179e"
             ],
             [
              0.4444444444444444,
              "#bd3786"
             ],
             [
              0.5555555555555556,
              "#d8576b"
             ],
             [
              0.6666666666666666,
              "#ed7953"
             ],
             [
              0.7777777777777778,
              "#fb9f3a"
             ],
             [
              0.8888888888888888,
              "#fdca26"
             ],
             [
              1,
              "#f0f921"
             ]
            ],
            "type": "contour"
           }
          ],
          "contourcarpet": [
           {
            "colorbar": {
             "outlinewidth": 0,
             "ticks": ""
            },
            "type": "contourcarpet"
           }
          ],
          "heatmap": [
           {
            "colorbar": {
             "outlinewidth": 0,
             "ticks": ""
            },
            "colorscale": [
             [
              0,
              "#0d0887"
             ],
             [
              0.1111111111111111,
              "#46039f"
             ],
             [
              0.2222222222222222,
              "#7201a8"
             ],
             [
              0.3333333333333333,
              "#9c179e"
             ],
             [
              0.4444444444444444,
              "#bd3786"
             ],
             [
              0.5555555555555556,
              "#d8576b"
             ],
             [
              0.6666666666666666,
              "#ed7953"
             ],
             [
              0.7777777777777778,
              "#fb9f3a"
             ],
             [
              0.8888888888888888,
              "#fdca26"
             ],
             [
              1,
              "#f0f921"
             ]
            ],
            "type": "heatmap"
           }
          ],
          "histogram": [
           {
            "marker": {
             "pattern": {
              "fillmode": "overlay",
              "size": 10,
              "solidity": 0.2
             }
            },
            "type": "histogram"
           }
          ],
          "histogram2d": [
           {
            "colorbar": {
             "outlinewidth": 0,
             "ticks": ""
            },
            "colorscale": [
             [
              0,
              "#0d0887"
             ],
             [
              0.1111111111111111,
              "#46039f"
             ],
             [
              0.2222222222222222,
              "#7201a8"
             ],
             [
              0.3333333333333333,
              "#9c179e"
             ],
             [
              0.4444444444444444,
              "#bd3786"
             ],
             [
              0.5555555555555556,
              "#d8576b"
             ],
             [
              0.6666666666666666,
              "#ed7953"
             ],
             [
              0.7777777777777778,
              "#fb9f3a"
             ],
             [
              0.8888888888888888,
              "#fdca26"
             ],
             [
              1,
              "#f0f921"
             ]
            ],
            "type": "histogram2d"
           }
          ],
          "histogram2dcontour": [
           {
            "colorbar": {
             "outlinewidth": 0,
             "ticks": ""
            },
            "colorscale": [
             [
              0,
              "#0d0887"
             ],
             [
              0.1111111111111111,
              "#46039f"
             ],
             [
              0.2222222222222222,
              "#7201a8"
             ],
             [
              0.3333333333333333,
              "#9c179e"
             ],
             [
              0.4444444444444444,
              "#bd3786"
             ],
             [
              0.5555555555555556,
              "#d8576b"
             ],
             [
              0.6666666666666666,
              "#ed7953"
             ],
             [
              0.7777777777777778,
              "#fb9f3a"
             ],
             [
              0.8888888888888888,
              "#fdca26"
             ],
             [
              1,
              "#f0f921"
             ]
            ],
            "type": "histogram2dcontour"
           }
          ],
          "mesh3d": [
           {
            "colorbar": {
             "outlinewidth": 0,
             "ticks": ""
            },
            "type": "mesh3d"
           }
          ],
          "parcoords": [
           {
            "line": {
             "colorbar": {
              "outlinewidth": 0,
              "ticks": ""
             }
            },
            "type": "parcoords"
           }
          ],
          "pie": [
           {
            "automargin": true,
            "type": "pie"
           }
          ],
          "scatter": [
           {
            "fillpattern": {
             "fillmode": "overlay",
             "size": 10,
             "solidity": 0.2
            },
            "type": "scatter"
           }
          ],
          "scatter3d": [
           {
            "line": {
             "colorbar": {
              "outlinewidth": 0,
              "ticks": ""
             }
            },
            "marker": {
             "colorbar": {
              "outlinewidth": 0,
              "ticks": ""
             }
            },
            "type": "scatter3d"
           }
          ],
          "scattercarpet": [
           {
            "marker": {
             "colorbar": {
              "outlinewidth": 0,
              "ticks": ""
             }
            },
            "type": "scattercarpet"
           }
          ],
          "scattergeo": [
           {
            "marker": {
             "colorbar": {
              "outlinewidth": 0,
              "ticks": ""
             }
            },
            "type": "scattergeo"
           }
          ],
          "scattergl": [
           {
            "marker": {
             "colorbar": {
              "outlinewidth": 0,
              "ticks": ""
             }
            },
            "type": "scattergl"
           }
          ],
          "scattermap": [
           {
            "marker": {
             "colorbar": {
              "outlinewidth": 0,
              "ticks": ""
             }
            },
            "type": "scattermap"
           }
          ],
          "scattermapbox": [
           {
            "marker": {
             "colorbar": {
              "outlinewidth": 0,
              "ticks": ""
             }
            },
            "type": "scattermapbox"
           }
          ],
          "scatterpolar": [
           {
            "marker": {
             "colorbar": {
              "outlinewidth": 0,
              "ticks": ""
             }
            },
            "type": "scatterpolar"
           }
          ],
          "scatterpolargl": [
           {
            "marker": {
             "colorbar": {
              "outlinewidth": 0,
              "ticks": ""
             }
            },
            "type": "scatterpolargl"
           }
          ],
          "scatterternary": [
           {
            "marker": {
             "colorbar": {
              "outlinewidth": 0,
              "ticks": ""
             }
            },
            "type": "scatterternary"
           }
          ],
          "surface": [
           {
            "colorbar": {
             "outlinewidth": 0,
             "ticks": ""
            },
            "colorscale": [
             [
              0,
              "#0d0887"
             ],
             [
              0.1111111111111111,
              "#46039f"
             ],
             [
              0.2222222222222222,
              "#7201a8"
             ],
             [
              0.3333333333333333,
              "#9c179e"
             ],
             [
              0.4444444444444444,
              "#bd3786"
             ],
             [
              0.5555555555555556,
              "#d8576b"
             ],
             [
              0.6666666666666666,
              "#ed7953"
             ],
             [
              0.7777777777777778,
              "#fb9f3a"
             ],
             [
              0.8888888888888888,
              "#fdca26"
             ],
             [
              1,
              "#f0f921"
             ]
            ],
            "type": "surface"
           }
          ],
          "table": [
           {
            "cells": {
             "fill": {
              "color": "#EBF0F8"
             },
             "line": {
              "color": "white"
             }
            },
            "header": {
             "fill": {
              "color": "#C8D4E3"
             },
             "line": {
              "color": "white"
             }
            },
            "type": "table"
           }
          ]
         },
         "layout": {
          "annotationdefaults": {
           "arrowcolor": "#2a3f5f",
           "arrowhead": 0,
           "arrowwidth": 1
          },
          "autotypenumbers": "strict",
          "coloraxis": {
           "colorbar": {
            "outlinewidth": 0,
            "ticks": ""
           }
          },
          "colorscale": {
           "diverging": [
            [
             0,
             "#8e0152"
            ],
            [
             0.1,
             "#c51b7d"
            ],
            [
             0.2,
             "#de77ae"
            ],
            [
             0.3,
             "#f1b6da"
            ],
            [
             0.4,
             "#fde0ef"
            ],
            [
             0.5,
             "#f7f7f7"
            ],
            [
             0.6,
             "#e6f5d0"
            ],
            [
             0.7,
             "#b8e186"
            ],
            [
             0.8,
             "#7fbc41"
            ],
            [
             0.9,
             "#4d9221"
            ],
            [
             1,
             "#276419"
            ]
           ],
           "sequential": [
            [
             0,
             "#0d0887"
            ],
            [
             0.1111111111111111,
             "#46039f"
            ],
            [
             0.2222222222222222,
             "#7201a8"
            ],
            [
             0.3333333333333333,
             "#9c179e"
            ],
            [
             0.4444444444444444,
             "#bd3786"
            ],
            [
             0.5555555555555556,
             "#d8576b"
            ],
            [
             0.6666666666666666,
             "#ed7953"
            ],
            [
             0.7777777777777778,
             "#fb9f3a"
            ],
            [
             0.8888888888888888,
             "#fdca26"
            ],
            [
             1,
             "#f0f921"
            ]
           ],
           "sequentialminus": [
            [
             0,
             "#0d0887"
            ],
            [
             0.1111111111111111,
             "#46039f"
            ],
            [
             0.2222222222222222,
             "#7201a8"
            ],
            [
             0.3333333333333333,
             "#9c179e"
            ],
            [
             0.4444444444444444,
             "#bd3786"
            ],
            [
             0.5555555555555556,
             "#d8576b"
            ],
            [
             0.6666666666666666,
             "#ed7953"
            ],
            [
             0.7777777777777778,
             "#fb9f3a"
            ],
            [
             0.8888888888888888,
             "#fdca26"
            ],
            [
             1,
             "#f0f921"
            ]
           ]
          },
          "colorway": [
           "#636efa",
           "#EF553B",
           "#00cc96",
           "#ab63fa",
           "#FFA15A",
           "#19d3f3",
           "#FF6692",
           "#B6E880",
           "#FF97FF",
           "#FECB52"
          ],
          "font": {
           "color": "#2a3f5f"
          },
          "geo": {
           "bgcolor": "white",
           "lakecolor": "white",
           "landcolor": "#E5ECF6",
           "showlakes": true,
           "showland": true,
           "subunitcolor": "white"
          },
          "hoverlabel": {
           "align": "left"
          },
          "hovermode": "closest",
          "mapbox": {
           "style": "light"
          },
          "paper_bgcolor": "white",
          "plot_bgcolor": "#E5ECF6",
          "polar": {
           "angularaxis": {
            "gridcolor": "white",
            "linecolor": "white",
            "ticks": ""
           },
           "bgcolor": "#E5ECF6",
           "radialaxis": {
            "gridcolor": "white",
            "linecolor": "white",
            "ticks": ""
           }
          },
          "scene": {
           "xaxis": {
            "backgroundcolor": "#E5ECF6",
            "gridcolor": "white",
            "gridwidth": 2,
            "linecolor": "white",
            "showbackground": true,
            "ticks": "",
            "zerolinecolor": "white"
           },
           "yaxis": {
            "backgroundcolor": "#E5ECF6",
            "gridcolor": "white",
            "gridwidth": 2,
            "linecolor": "white",
            "showbackground": true,
            "ticks": "",
            "zerolinecolor": "white"
           },
           "zaxis": {
            "backgroundcolor": "#E5ECF6",
            "gridcolor": "white",
            "gridwidth": 2,
            "linecolor": "white",
            "showbackground": true,
            "ticks": "",
            "zerolinecolor": "white"
           }
          },
          "shapedefaults": {
           "line": {
            "color": "#2a3f5f"
           }
          },
          "ternary": {
           "aaxis": {
            "gridcolor": "white",
            "linecolor": "white",
            "ticks": ""
           },
           "baxis": {
            "gridcolor": "white",
            "linecolor": "white",
            "ticks": ""
           },
           "bgcolor": "#E5ECF6",
           "caxis": {
            "gridcolor": "white",
            "linecolor": "white",
            "ticks": ""
           }
          },
          "title": {
           "x": 0.05
          },
          "xaxis": {
           "automargin": true,
           "gridcolor": "white",
           "linecolor": "white",
           "ticks": "",
           "title": {
            "standoff": 15
           },
           "zerolinecolor": "white",
           "zerolinewidth": 2
          },
          "yaxis": {
           "automargin": true,
           "gridcolor": "white",
           "linecolor": "white",
           "ticks": "",
           "title": {
            "standoff": 15
           },
           "zerolinecolor": "white",
           "zerolinewidth": 2
          }
         }
        },
        "title": {
         "text": "Mean Squared Displacement (MSD) BM vs CRW"
        },
        "xaxis": {
         "title": {
          "text": "Tau (offset)"
         }
        },
        "yaxis": {
         "title": {
          "text": "MSD"
         }
        }
       }
      }
     },
     "metadata": {},
     "output_type": "display_data"
    }
   ],
   "source": [
    "#MSD function \n",
    "def compute_MSD(traj_df):\n",
    "    n = len(traj_df)\n",
    "    msd = []\n",
    "    # Calulation for each tau\n",
    "    for tau in range(1, n):\n",
    "        displacements = (traj_df['x'][tau:].values - traj_df['x'][:-tau].values)**2 + \\\n",
    "                        (traj_df['y'][tau:].values - traj_df['y'][:-tau].values)**2\n",
    "        msd.append(np.mean(displacements))\n",
    "    return np.array(msd)\n",
    "\n",
    "# Comparison BM and CRW trajectory\n",
    "bm = generate_bm_trajectory(n_steps=300, step_std=1.0)\n",
    "crw_trajectory = generate_crw_trajectory(n_steps=300, step_length=1.0, turning_angle_std=np.pi/8)\n",
    "\n",
    "# MSD calculation for each one\n",
    "msd_bm = compute_MSD(bm)\n",
    "msd_crw = compute_MSD(crw_trajectory)\n",
    "\n",
    "# Data preparation\n",
    "tau_values = np.arange(1, len(msd_bm)+1)\n",
    "\n",
    "#Graph\n",
    "fig = go.Figure()\n",
    "fig.add_trace(go.Scatter(x=tau_values, y=msd_bm, mode='lines', name='MSD BM'))\n",
    "fig.add_trace(go.Scatter(x=tau_values, y=msd_crw, mode='lines', name='MSD CRW'))\n",
    "fig.update_layout(title=\"Mean Squared Displacement (MSD) BM vs CRW\",\n",
    "                  xaxis_title=\"Tau (offset)\",\n",
    "                  yaxis_title=\"MSD\")\n",
    "fig.show()\n"
   ]
  },
  {
   "cell_type": "markdown",
   "metadata": {},
   "source": [
    "# **Activity 3:**"
   ]
  },
  {
   "cell_type": "code",
   "execution_count": 4,
   "metadata": {},
   "outputs": [],
   "source": [
    "# Plot the results"
   ]
  }
 ],
 "metadata": {
  "kernelspec": {
   "display_name": "venv",
   "language": "python",
   "name": "python3"
  },
  "language_info": {
   "codemirror_mode": {
    "name": "ipython",
    "version": 3
   },
   "file_extension": ".py",
   "mimetype": "text/x-python",
   "name": "python",
   "nbconvert_exporter": "python",
   "pygments_lexer": "ipython3",
   "version": "3.13.0"
  }
 },
 "nbformat": 4,
 "nbformat_minor": 2
}
