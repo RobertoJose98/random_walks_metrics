{
 "cells": [
  {
   "cell_type": "markdown",
   "metadata": {},
   "source": [
    "# Homework 3\n",
    "\n",
    "**Name:** -- Roberto José González --\n",
    "\n",
    "**e-mail:** -- roberto.jose0745@alumnos.udg.mx --"
   ]
  },
  {
   "cell_type": "markdown",
   "metadata": {},
   "source": [
    "# MODULES"
   ]
  },
  {
   "cell_type": "code",
   "execution_count": 4,
   "metadata": {},
   "outputs": [
    {
     "name": "stdout",
     "output_type": "stream",
     "text": [
      "Enviroment configurated and modules loaded\n"
     ]
    }
   ],
   "source": [
    "# Load modules\n",
    "import numpy as np\n",
    "import pandas as pd\n",
    "import plotly.graph_objs as go\n",
    "import plotly.express as px\n",
    "from scipy.stats import cauchy, pareto\n",
    "\n",
    "# Productivity seed configuration\n",
    "np.random.seed(42)\n",
    "\n",
    "print(\"Enviroment configurated and modules loaded\")\n"
   ]
  },
  {
   "cell_type": "markdown",
   "metadata": {},
   "source": [
    "# **Activity 1:** Path length - (BM1 vs BM2 vs CRW)\n",
    "This activity generates two types of trajectories: Brownian Motion (BM), created by summing normal random steps, and Correlated Random Walk (CRW), where each step depends on the previous angle plus a random variation. The total length of each trajectory is calculated by summing the distances between consecutive points. The code implements functions to generate these trajectories and calculate their length, visualizing them in an interactive graph."
   ]
  },
  {
   "cell_type": "code",
   "execution_count": 5,
   "metadata": {},
   "outputs": [
    {
     "name": "stdout",
     "output_type": "stream",
     "text": [
      "BM1 length: 22.446900109144245\n",
      "BM2 length: 22.43894568652474\n",
      "CRW length: 19.0\n"
     ]
    },
    {
     "data": {
      "application/vnd.plotly.v1+json": {
       "config": {
        "plotlyServerURL": "https://plot.ly"
       },
       "data": [
        {
         "mode": "lines",
         "name": "BM1 (Long: 22.45)",
         "type": "scatter",
         "x": {
          "bdata": "fDCpKCrK3z/nLbql1/DWP666gJEkGfA/bDLBj7w7BEAIuMvBMFwCQFSqZI+tfABAWOSE4+ceDUAqjaBaTqERQIPm0esggQ9A8TgWUiXsEUA6JyonmxEQQHdw8chlaQxADmBLs+9YDkBeiqinExX+P2AyzbWB3sM/lt9b+kMN2r9eSTpm37f2v9anNDC3sPG/6RR9uP0bAMDMHoeaY2gLwA==",
          "dtype": "f8"
         },
         "y": {
          "bdata": "QQ2fH0xz9z8mOnKDhNbzP4JN3fcc6/Q/AJ79knwKvr/orSrk5CzlvyGNRFw3oOG/pjvx65M6+78sxBH/tzf1vxVisE/v0/6/Xqs2MFu/AcDIKqG+po8GwHK+UhS++O6/gICtz09n779DRq8ZBVAAwGr1zljldvO/w7dYWbx/A8AowSms+9MBwMXs6JmxwBDAhQPVmsEQFsCzYe2cK0cVwA==",
          "dtype": "f8"
         }
        },
        {
         "mode": "lines",
         "name": "BM2 (Long: 22.44)",
         "type": "scatter",
         "x": {
          "bdata": "vp1IqoSh5z9BqbH/XR3tPxVj2/j5aek/SRZmgquO3z/oZC6Yt4jvv4iFayjXSPu/nxh69c5TAcDcbhzspL3xv/S8uA9efOi/5Ln0T8w5BMDdDuf5EqIBwMVQrP64tgTAGF+WEw8hCsDa49OJWDwFwODKsri3+fm/ovmEemMm5r96B8oXoYD4v+7R5sQpc/2/zP6i4k4m+L+YlS1b8xThvw==",
          "dtype": "f8"
         },
         "y": {
          "bdata": "VWYobMqq3r+vjjNOUEblv4g1VnS0Vvy/vpV4AS+9B8BS4KV3IT0BwE7lj2E0jum/zUk1jRzc678c3J7jUQPBP1AS+F60pt8/HAYU/t9Fw78CzTUTVvzKP8AZd/1W+/s/9fBRqpho+z8T5MU5sDgKQNAS2jfNDeU/yLV52Wmt9z+qcO5Q9RH5Pzo1dmI5SfQ/3p1aiBPB9T8I/iIPAxjkvw==",
          "dtype": "f8"
         }
        },
        {
         "mode": "lines",
         "name": "CRW (Long: 19.00)",
         "type": "scatter",
         "x": {
          "bdata": "jNe/KyqC5j8cI42sz6XsP24MQ5dn6ug/sgzLPAF+7j/CDFAkrbbwP306UnYeAe8/uK0urYJv8T9FlEKuVCb6P7HK5Z8GFgJAySmQNMnTB0C3VviKFp0PQGiAkWkFwRNAgqgxN/WXF0B1waC8wZcbQAJCgspRkB9AKmS8Eki2IUAW73bRMKgjQLG17lJ6pCVAw/33n8TZJkCQUfmPaEMoQA==",
          "dtype": "f8"
         },
         "y": {
          "bdata": "p9Ab2+m+5r8JHd+RXhP7v8jc+3G1ewXA1k/D9l5cDcAwL3yR3qkSwFqKIyTuphbA0WaEOW2fGsBnhLmPOvodwOB7D3w4jCDA/mbyscbwIcBhLNr0UGYiwL0Pwvw/uSLAWBnsb8lII8CkEfPj7lIjwGKRSnWHkCPAwKmor6UWJMALQTsOW58jwCIwrLHOYSPACJin09T5JMDt6caTRGQmwA==",
          "dtype": "f8"
         }
        }
       ],
       "layout": {
        "template": {
         "data": {
          "bar": [
           {
            "error_x": {
             "color": "#2a3f5f"
            },
            "error_y": {
             "color": "#2a3f5f"
            },
            "marker": {
             "line": {
              "color": "#E5ECF6",
              "width": 0.5
             },
             "pattern": {
              "fillmode": "overlay",
              "size": 10,
              "solidity": 0.2
             }
            },
            "type": "bar"
           }
          ],
          "barpolar": [
           {
            "marker": {
             "line": {
              "color": "#E5ECF6",
              "width": 0.5
             },
             "pattern": {
              "fillmode": "overlay",
              "size": 10,
              "solidity": 0.2
             }
            },
            "type": "barpolar"
           }
          ],
          "carpet": [
           {
            "aaxis": {
             "endlinecolor": "#2a3f5f",
             "gridcolor": "white",
             "linecolor": "white",
             "minorgridcolor": "white",
             "startlinecolor": "#2a3f5f"
            },
            "baxis": {
             "endlinecolor": "#2a3f5f",
             "gridcolor": "white",
             "linecolor": "white",
             "minorgridcolor": "white",
             "startlinecolor": "#2a3f5f"
            },
            "type": "carpet"
           }
          ],
          "choropleth": [
           {
            "colorbar": {
             "outlinewidth": 0,
             "ticks": ""
            },
            "type": "choropleth"
           }
          ],
          "contour": [
           {
            "colorbar": {
             "outlinewidth": 0,
             "ticks": ""
            },
            "colorscale": [
             [
              0,
              "#0d0887"
             ],
             [
              0.1111111111111111,
              "#46039f"
             ],
             [
              0.2222222222222222,
              "#7201a8"
             ],
             [
              0.3333333333333333,
              "#9c179e"
             ],
             [
              0.4444444444444444,
              "#bd3786"
             ],
             [
              0.5555555555555556,
              "#d8576b"
             ],
             [
              0.6666666666666666,
              "#ed7953"
             ],
             [
              0.7777777777777778,
              "#fb9f3a"
             ],
             [
              0.8888888888888888,
              "#fdca26"
             ],
             [
              1,
              "#f0f921"
             ]
            ],
            "type": "contour"
           }
          ],
          "contourcarpet": [
           {
            "colorbar": {
             "outlinewidth": 0,
             "ticks": ""
            },
            "type": "contourcarpet"
           }
          ],
          "heatmap": [
           {
            "colorbar": {
             "outlinewidth": 0,
             "ticks": ""
            },
            "colorscale": [
             [
              0,
              "#0d0887"
             ],
             [
              0.1111111111111111,
              "#46039f"
             ],
             [
              0.2222222222222222,
              "#7201a8"
             ],
             [
              0.3333333333333333,
              "#9c179e"
             ],
             [
              0.4444444444444444,
              "#bd3786"
             ],
             [
              0.5555555555555556,
              "#d8576b"
             ],
             [
              0.6666666666666666,
              "#ed7953"
             ],
             [
              0.7777777777777778,
              "#fb9f3a"
             ],
             [
              0.8888888888888888,
              "#fdca26"
             ],
             [
              1,
              "#f0f921"
             ]
            ],
            "type": "heatmap"
           }
          ],
          "histogram": [
           {
            "marker": {
             "pattern": {
              "fillmode": "overlay",
              "size": 10,
              "solidity": 0.2
             }
            },
            "type": "histogram"
           }
          ],
          "histogram2d": [
           {
            "colorbar": {
             "outlinewidth": 0,
             "ticks": ""
            },
            "colorscale": [
             [
              0,
              "#0d0887"
             ],
             [
              0.1111111111111111,
              "#46039f"
             ],
             [
              0.2222222222222222,
              "#7201a8"
             ],
             [
              0.3333333333333333,
              "#9c179e"
             ],
             [
              0.4444444444444444,
              "#bd3786"
             ],
             [
              0.5555555555555556,
              "#d8576b"
             ],
             [
              0.6666666666666666,
              "#ed7953"
             ],
             [
              0.7777777777777778,
              "#fb9f3a"
             ],
             [
              0.8888888888888888,
              "#fdca26"
             ],
             [
              1,
              "#f0f921"
             ]
            ],
            "type": "histogram2d"
           }
          ],
          "histogram2dcontour": [
           {
            "colorbar": {
             "outlinewidth": 0,
             "ticks": ""
            },
            "colorscale": [
             [
              0,
              "#0d0887"
             ],
             [
              0.1111111111111111,
              "#46039f"
             ],
             [
              0.2222222222222222,
              "#7201a8"
             ],
             [
              0.3333333333333333,
              "#9c179e"
             ],
             [
              0.4444444444444444,
              "#bd3786"
             ],
             [
              0.5555555555555556,
              "#d8576b"
             ],
             [
              0.6666666666666666,
              "#ed7953"
             ],
             [
              0.7777777777777778,
              "#fb9f3a"
             ],
             [
              0.8888888888888888,
              "#fdca26"
             ],
             [
              1,
              "#f0f921"
             ]
            ],
            "type": "histogram2dcontour"
           }
          ],
          "mesh3d": [
           {
            "colorbar": {
             "outlinewidth": 0,
             "ticks": ""
            },
            "type": "mesh3d"
           }
          ],
          "parcoords": [
           {
            "line": {
             "colorbar": {
              "outlinewidth": 0,
              "ticks": ""
             }
            },
            "type": "parcoords"
           }
          ],
          "pie": [
           {
            "automargin": true,
            "type": "pie"
           }
          ],
          "scatter": [
           {
            "fillpattern": {
             "fillmode": "overlay",
             "size": 10,
             "solidity": 0.2
            },
            "type": "scatter"
           }
          ],
          "scatter3d": [
           {
            "line": {
             "colorbar": {
              "outlinewidth": 0,
              "ticks": ""
             }
            },
            "marker": {
             "colorbar": {
              "outlinewidth": 0,
              "ticks": ""
             }
            },
            "type": "scatter3d"
           }
          ],
          "scattercarpet": [
           {
            "marker": {
             "colorbar": {
              "outlinewidth": 0,
              "ticks": ""
             }
            },
            "type": "scattercarpet"
           }
          ],
          "scattergeo": [
           {
            "marker": {
             "colorbar": {
              "outlinewidth": 0,
              "ticks": ""
             }
            },
            "type": "scattergeo"
           }
          ],
          "scattergl": [
           {
            "marker": {
             "colorbar": {
              "outlinewidth": 0,
              "ticks": ""
             }
            },
            "type": "scattergl"
           }
          ],
          "scattermap": [
           {
            "marker": {
             "colorbar": {
              "outlinewidth": 0,
              "ticks": ""
             }
            },
            "type": "scattermap"
           }
          ],
          "scattermapbox": [
           {
            "marker": {
             "colorbar": {
              "outlinewidth": 0,
              "ticks": ""
             }
            },
            "type": "scattermapbox"
           }
          ],
          "scatterpolar": [
           {
            "marker": {
             "colorbar": {
              "outlinewidth": 0,
              "ticks": ""
             }
            },
            "type": "scatterpolar"
           }
          ],
          "scatterpolargl": [
           {
            "marker": {
             "colorbar": {
              "outlinewidth": 0,
              "ticks": ""
             }
            },
            "type": "scatterpolargl"
           }
          ],
          "scatterternary": [
           {
            "marker": {
             "colorbar": {
              "outlinewidth": 0,
              "ticks": ""
             }
            },
            "type": "scatterternary"
           }
          ],
          "surface": [
           {
            "colorbar": {
             "outlinewidth": 0,
             "ticks": ""
            },
            "colorscale": [
             [
              0,
              "#0d0887"
             ],
             [
              0.1111111111111111,
              "#46039f"
             ],
             [
              0.2222222222222222,
              "#7201a8"
             ],
             [
              0.3333333333333333,
              "#9c179e"
             ],
             [
              0.4444444444444444,
              "#bd3786"
             ],
             [
              0.5555555555555556,
              "#d8576b"
             ],
             [
              0.6666666666666666,
              "#ed7953"
             ],
             [
              0.7777777777777778,
              "#fb9f3a"
             ],
             [
              0.8888888888888888,
              "#fdca26"
             ],
             [
              1,
              "#f0f921"
             ]
            ],
            "type": "surface"
           }
          ],
          "table": [
           {
            "cells": {
             "fill": {
              "color": "#EBF0F8"
             },
             "line": {
              "color": "white"
             }
            },
            "header": {
             "fill": {
              "color": "#C8D4E3"
             },
             "line": {
              "color": "white"
             }
            },
            "type": "table"
           }
          ]
         },
         "layout": {
          "annotationdefaults": {
           "arrowcolor": "#2a3f5f",
           "arrowhead": 0,
           "arrowwidth": 1
          },
          "autotypenumbers": "strict",
          "coloraxis": {
           "colorbar": {
            "outlinewidth": 0,
            "ticks": ""
           }
          },
          "colorscale": {
           "diverging": [
            [
             0,
             "#8e0152"
            ],
            [
             0.1,
             "#c51b7d"
            ],
            [
             0.2,
             "#de77ae"
            ],
            [
             0.3,
             "#f1b6da"
            ],
            [
             0.4,
             "#fde0ef"
            ],
            [
             0.5,
             "#f7f7f7"
            ],
            [
             0.6,
             "#e6f5d0"
            ],
            [
             0.7,
             "#b8e186"
            ],
            [
             0.8,
             "#7fbc41"
            ],
            [
             0.9,
             "#4d9221"
            ],
            [
             1,
             "#276419"
            ]
           ],
           "sequential": [
            [
             0,
             "#0d0887"
            ],
            [
             0.1111111111111111,
             "#46039f"
            ],
            [
             0.2222222222222222,
             "#7201a8"
            ],
            [
             0.3333333333333333,
             "#9c179e"
            ],
            [
             0.4444444444444444,
             "#bd3786"
            ],
            [
             0.5555555555555556,
             "#d8576b"
            ],
            [
             0.6666666666666666,
             "#ed7953"
            ],
            [
             0.7777777777777778,
             "#fb9f3a"
            ],
            [
             0.8888888888888888,
             "#fdca26"
            ],
            [
             1,
             "#f0f921"
            ]
           ],
           "sequentialminus": [
            [
             0,
             "#0d0887"
            ],
            [
             0.1111111111111111,
             "#46039f"
            ],
            [
             0.2222222222222222,
             "#7201a8"
            ],
            [
             0.3333333333333333,
             "#9c179e"
            ],
            [
             0.4444444444444444,
             "#bd3786"
            ],
            [
             0.5555555555555556,
             "#d8576b"
            ],
            [
             0.6666666666666666,
             "#ed7953"
            ],
            [
             0.7777777777777778,
             "#fb9f3a"
            ],
            [
             0.8888888888888888,
             "#fdca26"
            ],
            [
             1,
             "#f0f921"
            ]
           ]
          },
          "colorway": [
           "#636efa",
           "#EF553B",
           "#00cc96",
           "#ab63fa",
           "#FFA15A",
           "#19d3f3",
           "#FF6692",
           "#B6E880",
           "#FF97FF",
           "#FECB52"
          ],
          "font": {
           "color": "#2a3f5f"
          },
          "geo": {
           "bgcolor": "white",
           "lakecolor": "white",
           "landcolor": "#E5ECF6",
           "showlakes": true,
           "showland": true,
           "subunitcolor": "white"
          },
          "hoverlabel": {
           "align": "left"
          },
          "hovermode": "closest",
          "mapbox": {
           "style": "light"
          },
          "paper_bgcolor": "white",
          "plot_bgcolor": "#E5ECF6",
          "polar": {
           "angularaxis": {
            "gridcolor": "white",
            "linecolor": "white",
            "ticks": ""
           },
           "bgcolor": "#E5ECF6",
           "radialaxis": {
            "gridcolor": "white",
            "linecolor": "white",
            "ticks": ""
           }
          },
          "scene": {
           "xaxis": {
            "backgroundcolor": "#E5ECF6",
            "gridcolor": "white",
            "gridwidth": 2,
            "linecolor": "white",
            "showbackground": true,
            "ticks": "",
            "zerolinecolor": "white"
           },
           "yaxis": {
            "backgroundcolor": "#E5ECF6",
            "gridcolor": "white",
            "gridwidth": 2,
            "linecolor": "white",
            "showbackground": true,
            "ticks": "",
            "zerolinecolor": "white"
           },
           "zaxis": {
            "backgroundcolor": "#E5ECF6",
            "gridcolor": "white",
            "gridwidth": 2,
            "linecolor": "white",
            "showbackground": true,
            "ticks": "",
            "zerolinecolor": "white"
           }
          },
          "shapedefaults": {
           "line": {
            "color": "#2a3f5f"
           }
          },
          "ternary": {
           "aaxis": {
            "gridcolor": "white",
            "linecolor": "white",
            "ticks": ""
           },
           "baxis": {
            "gridcolor": "white",
            "linecolor": "white",
            "ticks": ""
           },
           "bgcolor": "#E5ECF6",
           "caxis": {
            "gridcolor": "white",
            "linecolor": "white",
            "ticks": ""
           }
          },
          "title": {
           "x": 0.05
          },
          "xaxis": {
           "automargin": true,
           "gridcolor": "white",
           "linecolor": "white",
           "ticks": "",
           "title": {
            "standoff": 15
           },
           "zerolinecolor": "white",
           "zerolinewidth": 2
          },
          "yaxis": {
           "automargin": true,
           "gridcolor": "white",
           "linecolor": "white",
           "ticks": "",
           "title": {
            "standoff": 15
           },
           "zerolinecolor": "white",
           "zerolinewidth": 2
          }
         }
        },
        "title": {
         "text": "Trajectories: BM1 vs BM2 vs CRW"
        },
        "xaxis": {
         "title": {
          "text": "X"
         }
        },
        "yaxis": {
         "title": {
          "text": "Y"
         }
        }
       }
      }
     },
     "metadata": {},
     "output_type": "display_data"
    }
   ],
   "source": [
    "# Brownian Motion trejectory\n",
    "def generate_bm_trajectory(n_steps=100, step_std=1.0):\n",
    "    # (x,y) randon walk generation\n",
    "    steps_x = np.random.normal(loc=0, scale=step_std, size=n_steps)\n",
    "    steps_y = np.random.normal(loc=0, scale=step_std, size=n_steps)\n",
    "    # Acumulated random walk \n",
    "    x = np.cumsum(steps_x)\n",
    "    y = np.cumsum(steps_y)\n",
    "    return pd.DataFrame({'x': x, 'y': y})\n",
    "\n",
    "# Correlated Random Walk trajectory \n",
    "def generate_crw_trajectory(n_steps=100, step_length=1.0, turning_angle_std=np.pi/8):\n",
    "    # Initial random angule\n",
    "    angle = np.random.uniform(0, 2*np.pi)\n",
    "    x, y = [0], [0]\n",
    "    for _ in range(n_steps):\n",
    "        # Normal distribution added\n",
    "        delta_angle = np.random.normal(loc=0, scale=turning_angle_std)\n",
    "        angle += delta_angle\n",
    "        # Position updated\n",
    "        x.append(x[-1] + step_length * np.cos(angle))\n",
    "        y.append(y[-1] + step_length * np.sin(angle))\n",
    "    # It¿nitial point skipped \n",
    "    return pd.DataFrame({'x': x[1:], 'y': y[1:]})\n",
    "\n",
    "# Trajectory length calculation\n",
    "def compute_path_length(traj_df):\n",
    "    # Euclidian distance calculation\n",
    "    dx = np.diff(traj_df['x'])\n",
    "    dy = np.diff(traj_df['y'])\n",
    "    distances = np.sqrt(dx**2 + dy**2)\n",
    "    return np.sum(distances)\n",
    "\n",
    "# Trajectories generated\n",
    "bm1 = generate_bm_trajectory(n_steps=20, step_std=1.0)\n",
    "bm2 = generate_bm_trajectory(n_steps=20, step_std=1.0)\n",
    "crw = generate_crw_trajectory(n_steps=20, step_length=1.0, turning_angle_std=np.pi/8)\n",
    "\n",
    "# Length calculation of each trajectory\n",
    "length_bm1 = compute_path_length(bm1)\n",
    "length_bm2 = compute_path_length(bm2)\n",
    "length_crw = compute_path_length(crw)\n",
    "\n",
    "print(\"BM1 length:\", length_bm1)\n",
    "print(\"BM2 length:\", length_bm2)\n",
    "print(\"CRW length:\", length_crw)\n",
    "\n",
    "# Trajectory graph\n",
    "fig = go.Figure()\n",
    "fig.add_trace(go.Scatter(x=bm1['x'], y=bm1['y'], mode='lines', name=f'BM1 (Long: {length_bm1:.2f})'))\n",
    "fig.add_trace(go.Scatter(x=bm2['x'], y=bm2['y'], mode='lines', name=f'BM2 (Long: {length_bm2:.2f})'))\n",
    "fig.add_trace(go.Scatter(x=crw['x'], y=crw['y'], mode='lines', name=f'CRW (Long: {length_crw:.2f})'))\n",
    "fig.update_layout(title=\"Trajectories: BM1 vs BM2 vs CRW\",\n",
    "                  xaxis_title=\"X\", yaxis_title=\"Y\")\n",
    "fig.show()\n"
   ]
  },
  {
   "cell_type": "code",
   "execution_count": null,
   "metadata": {},
   "outputs": [],
   "source": [
    "# Run gradient descent algorithm"
   ]
  },
  {
   "cell_type": "code",
   "execution_count": null,
   "metadata": {},
   "outputs": [],
   "source": [
    "# Plot the results"
   ]
  }
 ],
 "metadata": {
  "kernelspec": {
   "display_name": "venv",
   "language": "python",
   "name": "python3"
  },
  "language_info": {
   "codemirror_mode": {
    "name": "ipython",
    "version": 3
   },
   "file_extension": ".py",
   "mimetype": "text/x-python",
   "name": "python",
   "nbconvert_exporter": "python",
   "pygments_lexer": "ipython3",
   "version": "3.13.0"
  }
 },
 "nbformat": 4,
 "nbformat_minor": 2
}
